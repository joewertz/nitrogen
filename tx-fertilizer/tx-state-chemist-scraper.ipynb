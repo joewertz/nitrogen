{
 "cells": [
  {
   "cell_type": "markdown",
   "metadata": {},
   "source": [
    "# Scrape the [Texas State Chemist Active Fertilizer Registry](https://otscweb.tamu.edu/Reports/ActiveFertRegistrant.aspx)"
   ]
  },
  {
   "cell_type": "code",
   "execution_count": 1,
   "metadata": {},
   "outputs": [],
   "source": [
    "import bs4\n",
    "import pandas as pd\n",
    "import requests"
   ]
  },
  {
   "cell_type": "markdown",
   "metadata": {},
   "source": [
    "## Locate the funds table on the page"
   ]
  },
  {
   "cell_type": "code",
   "execution_count": 2,
   "metadata": {},
   "outputs": [],
   "source": [
    "tx_state_chemist_page = requests.get('https://otscweb.tamu.edu/Reports/ActiveFertRegistrant.aspx')"
   ]
  },
  {
   "cell_type": "code",
   "execution_count": 3,
   "metadata": {},
   "outputs": [],
   "source": [
    "soup = bs4.BeautifulSoup(tx_state_chemist_page.text, 'html.parser')"
   ]
  },
  {
   "cell_type": "code",
   "execution_count": 4,
   "metadata": {},
   "outputs": [],
   "source": [
    "table = soup.find('table')"
   ]
  },
  {
   "cell_type": "code",
   "execution_count": 5,
   "metadata": {},
   "outputs": [],
   "source": [
    "rows = table.find_all('tr')"
   ]
  },
  {
   "cell_type": "markdown",
   "metadata": {},
   "source": [
    "Count up the rows"
   ]
  },
  {
   "cell_type": "code",
   "execution_count": 6,
   "metadata": {},
   "outputs": [
    {
     "data": {
      "text/plain": [
       "1223"
      ]
     },
     "execution_count": 6,
     "metadata": {},
     "output_type": "execute_result"
    }
   ],
   "source": [
    "len(rows)"
   ]
  },
  {
   "cell_type": "markdown",
   "metadata": {},
   "source": [
    "# Extract the data from the company table"
   ]
  },
  {
   "cell_type": "code",
   "execution_count": 7,
   "metadata": {},
   "outputs": [
    {
     "data": {
      "text/html": [
       "<div>\n",
       "<style scoped>\n",
       "    .dataframe tbody tr th:only-of-type {\n",
       "        vertical-align: middle;\n",
       "    }\n",
       "\n",
       "    .dataframe tbody tr th {\n",
       "        vertical-align: top;\n",
       "    }\n",
       "\n",
       "    .dataframe thead th {\n",
       "        text-align: right;\n",
       "    }\n",
       "</style>\n",
       "<table border=\"1\" class=\"dataframe\">\n",
       "  <thead>\n",
       "    <tr style=\"text-align: right;\">\n",
       "      <th></th>\n",
       "      <th>name</th>\n",
       "      <th>address</th>\n",
       "    </tr>\n",
       "    <tr>\n",
       "      <th>permit</th>\n",
       "      <th></th>\n",
       "      <th></th>\n",
       "    </tr>\n",
       "  </thead>\n",
       "  <tbody>\n",
       "    <tr>\n",
       "      <th>203962</th>\n",
       "      <td>2K AGRI SERVICES, INC.</td>\n",
       "      <td>201 HWY 62/82 LORENZO, TX 79343</td>\n",
       "    </tr>\n",
       "    <tr>\n",
       "      <th>705463</th>\n",
       "      <td>3 TIER TECHNOLOGIES LLC</td>\n",
       "      <td>250 NATIONAL PLACE #142 LONGWOOD, FL 32750</td>\n",
       "    </tr>\n",
       "    <tr>\n",
       "      <th>203926</th>\n",
       "      <td>3D AG SERVICES, INC.</td>\n",
       "      <td>P. O. BOX 337 RISING STAR, TX 76471</td>\n",
       "    </tr>\n",
       "    <tr>\n",
       "      <th>706920</th>\n",
       "      <td>3H TRADING COMPANY</td>\n",
       "      <td>8505 TECHNOLOGY FOREST PLACE STE 1102 THE WOOD...</td>\n",
       "    </tr>\n",
       "    <tr>\n",
       "      <th>707303</th>\n",
       "      <td>4C FEED &amp; FERTILIZER</td>\n",
       "      <td>P. O. BOX 632564 NACOGDOCHES, TX 75963</td>\n",
       "    </tr>\n",
       "    <tr>\n",
       "      <th>705019</th>\n",
       "      <td>5-J FEED &amp; FARM SUPPLY, INC.</td>\n",
       "      <td>P. O. BOX 151 LEROY, TX 76654</td>\n",
       "    </tr>\n",
       "    <tr>\n",
       "      <th>708599</th>\n",
       "      <td>A &amp; M FARM SUPPLY</td>\n",
       "      <td>2100 E. LOOP 281 LONGVIEW, TX 75605</td>\n",
       "    </tr>\n",
       "    <tr>\n",
       "      <th>709126</th>\n",
       "      <td>A DIVISION OF OROGRO</td>\n",
       "      <td>30 N. GOULD ST., SUITE R SHERIDAN, WY 82801</td>\n",
       "    </tr>\n",
       "    <tr>\n",
       "      <th>203732</th>\n",
       "      <td>A-MARC PRODUCTS, INC.</td>\n",
       "      <td>506 WEST 20TH ST. MULESHOE, TX 79347</td>\n",
       "    </tr>\n",
       "    <tr>\n",
       "      <th>701794</th>\n",
       "      <td>AARON INDUSTRIES, INC.</td>\n",
       "      <td>28966 HIGHWAY 76 E CLINTON, SC 29325</td>\n",
       "    </tr>\n",
       "  </tbody>\n",
       "</table>\n",
       "</div>"
      ],
      "text/plain": [
       "                                name  \\\n",
       "permit                                 \n",
       "203962        2K AGRI SERVICES, INC.   \n",
       "705463       3 TIER TECHNOLOGIES LLC   \n",
       "203926          3D AG SERVICES, INC.   \n",
       "706920            3H TRADING COMPANY   \n",
       "707303          4C FEED & FERTILIZER   \n",
       "705019  5-J FEED & FARM SUPPLY, INC.   \n",
       "708599             A & M FARM SUPPLY   \n",
       "709126          A DIVISION OF OROGRO   \n",
       "203732         A-MARC PRODUCTS, INC.   \n",
       "701794        AARON INDUSTRIES, INC.   \n",
       "\n",
       "                                                  address  \n",
       "permit                                                     \n",
       "203962                    201 HWY 62/82 LORENZO, TX 79343  \n",
       "705463         250 NATIONAL PLACE #142 LONGWOOD, FL 32750  \n",
       "203926                P. O. BOX 337 RISING STAR, TX 76471  \n",
       "706920  8505 TECHNOLOGY FOREST PLACE STE 1102 THE WOOD...  \n",
       "707303             P. O. BOX 632564 NACOGDOCHES, TX 75963  \n",
       "705019                      P. O. BOX 151 LEROY, TX 76654  \n",
       "708599                2100 E. LOOP 281 LONGVIEW, TX 75605  \n",
       "709126        30 N. GOULD ST., SUITE R SHERIDAN, WY 82801  \n",
       "203732               506 WEST 20TH ST. MULESHOE, TX 79347  \n",
       "701794               28966 HIGHWAY 76 E CLINTON, SC 29325  "
      ]
     },
     "execution_count": 7,
     "metadata": {},
     "output_type": "execute_result"
    }
   ],
   "source": [
    "columns = ['permit','name','address']\n",
    "\n",
    "fertilizer_registrants = pd.DataFrame(columns=columns) # Create empty dataframe\n",
    "\n",
    "for item in rows[1:]: # Skip the column headers\n",
    "    # Iterate through the table rows\n",
    "    cells = item.find_all('td')\n",
    "    permit = cells[0].text\n",
    "    name = cells[1].text\n",
    "    address = ' '.join([value for value in cells[2].find('span').contents if type(value) is bs4.element.NavigableString]).replace('\\n','')\n",
    "    fertilizer_registrants = pd.concat([fertilizer_registrants,pd.DataFrame([[permit,name,address]],columns=columns)])\n",
    "\n",
    "fertilizer_registrants = fertilizer_registrants.set_index('permit')\n",
    "    \n",
    "fertilizer_registrants.head(10)"
   ]
  },
  {
   "cell_type": "markdown",
   "metadata": {},
   "source": [
    "## Check the extracted data"
   ]
  },
  {
   "cell_type": "code",
   "execution_count": 8,
   "metadata": {},
   "outputs": [
    {
     "name": "stdout",
     "output_type": "stream",
     "text": [
      "<class 'pandas.core.frame.DataFrame'>\n",
      "Index: 1222 entries, 203962 to 203833\n",
      "Data columns (total 2 columns):\n",
      "name       1222 non-null object\n",
      "address    1222 non-null object\n",
      "dtypes: object(2)\n",
      "memory usage: 14.3+ KB\n"
     ]
    }
   ],
   "source": [
    "fertilizer_registrants.info()"
   ]
  },
  {
   "cell_type": "code",
   "execution_count": 9,
   "metadata": {},
   "outputs": [
    {
     "data": {
      "text/plain": [
       "(1222, 2)"
      ]
     },
     "execution_count": 9,
     "metadata": {},
     "output_type": "execute_result"
    }
   ],
   "source": [
    "fertilizer_registrants.shape"
   ]
  },
  {
   "cell_type": "markdown",
   "metadata": {},
   "source": [
    "Check for nulls"
   ]
  },
  {
   "cell_type": "code",
   "execution_count": 10,
   "metadata": {},
   "outputs": [
    {
     "data": {
      "text/html": [
       "<div>\n",
       "<style scoped>\n",
       "    .dataframe tbody tr th:only-of-type {\n",
       "        vertical-align: middle;\n",
       "    }\n",
       "\n",
       "    .dataframe tbody tr th {\n",
       "        vertical-align: top;\n",
       "    }\n",
       "\n",
       "    .dataframe thead th {\n",
       "        text-align: right;\n",
       "    }\n",
       "</style>\n",
       "<table border=\"1\" class=\"dataframe\">\n",
       "  <thead>\n",
       "    <tr style=\"text-align: right;\">\n",
       "      <th></th>\n",
       "      <th>name</th>\n",
       "      <th>address</th>\n",
       "    </tr>\n",
       "    <tr>\n",
       "      <th>permit</th>\n",
       "      <th></th>\n",
       "      <th></th>\n",
       "    </tr>\n",
       "  </thead>\n",
       "  <tbody>\n",
       "  </tbody>\n",
       "</table>\n",
       "</div>"
      ],
      "text/plain": [
       "Empty DataFrame\n",
       "Columns: [name, address]\n",
       "Index: []"
      ]
     },
     "execution_count": 10,
     "metadata": {},
     "output_type": "execute_result"
    }
   ],
   "source": [
    "nulls_scrape = fertilizer_registrants[fertilizer_registrants.isna().any(axis=1)]\n",
    "nulls_scrape.head()"
   ]
  },
  {
   "cell_type": "markdown",
   "metadata": {},
   "source": [
    "## Export scraped data "
   ]
  },
  {
   "cell_type": "code",
   "execution_count": 11,
   "metadata": {},
   "outputs": [],
   "source": [
    "fertilizer_registrants.to_csv('tx_fertilizer_registrants200114.csv')"
   ]
  },
  {
   "cell_type": "markdown",
   "metadata": {},
   "source": [
    "Check the .csv we just created"
   ]
  },
  {
   "cell_type": "code",
   "execution_count": 12,
   "metadata": {},
   "outputs": [],
   "source": [
    "check_csv = pd.read_csv('tx_fertilizer_registrants200114.csv')"
   ]
  },
  {
   "cell_type": "markdown",
   "metadata": {},
   "source": [
    "Check for nulls in csv"
   ]
  },
  {
   "cell_type": "code",
   "execution_count": 13,
   "metadata": {},
   "outputs": [
    {
     "data": {
      "text/html": [
       "<div>\n",
       "<style scoped>\n",
       "    .dataframe tbody tr th:only-of-type {\n",
       "        vertical-align: middle;\n",
       "    }\n",
       "\n",
       "    .dataframe tbody tr th {\n",
       "        vertical-align: top;\n",
       "    }\n",
       "\n",
       "    .dataframe thead th {\n",
       "        text-align: right;\n",
       "    }\n",
       "</style>\n",
       "<table border=\"1\" class=\"dataframe\">\n",
       "  <thead>\n",
       "    <tr style=\"text-align: right;\">\n",
       "      <th></th>\n",
       "      <th>name</th>\n",
       "      <th>address</th>\n",
       "    </tr>\n",
       "    <tr>\n",
       "      <th>permit</th>\n",
       "      <th></th>\n",
       "      <th></th>\n",
       "    </tr>\n",
       "  </thead>\n",
       "  <tbody>\n",
       "  </tbody>\n",
       "</table>\n",
       "</div>"
      ],
      "text/plain": [
       "Empty DataFrame\n",
       "Columns: [name, address]\n",
       "Index: []"
      ]
     },
     "execution_count": 13,
     "metadata": {},
     "output_type": "execute_result"
    }
   ],
   "source": [
    "nulls_csv = fertilizer_registrants[fertilizer_registrants.isna().any(axis=1)]\n",
    "nulls_csv.head()"
   ]
  }
 ],
 "metadata": {
  "kernelspec": {
   "display_name": "Python 3",
   "language": "python",
   "name": "python3"
  },
  "language_info": {
   "codemirror_mode": {
    "name": "ipython",
    "version": 3
   },
   "file_extension": ".py",
   "mimetype": "text/x-python",
   "name": "python",
   "nbconvert_exporter": "python",
   "pygments_lexer": "ipython3",
   "version": "3.7.4"
  }
 },
 "nbformat": 4,
 "nbformat_minor": 4
}
